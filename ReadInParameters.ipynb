{
 "cells": [
  {
   "cell_type": "code",
   "execution_count": 7,
   "id": "145007dd-867a-4a6a-b350-920fa7ef8aa3",
   "metadata": {},
   "outputs": [
    {
     "name": "stdout",
     "output_type": "stream",
     "text": [
      "                  Material       Unnamed: 1  Unnamed: 2 Thermal conductivity  \\\n",
      "0                      NaN  Material number         NaN               W/m/oC   \n",
      "1                    Stone                1         NaN                  1.7   \n",
      "2                    Brick                2         NaN                    1   \n",
      "3                   Gypsom                3         NaN                 0.17   \n",
      "4             lime plaster                4         NaN                  0.8   \n",
      "5       Insulating plaster                5         NaN                0.045   \n",
      "6              Wood (pine)                6         NaN                 0.15   \n",
      "7               Wood (oak)                7         NaN                 0.17   \n",
      "8       Carpet (5mm thick)                8         NaN                 0.05   \n",
      "9   Polystyrene or similar                9         NaN                0.035   \n",
      "10                    Lead               10         NaN                   35   \n",
      "11                   Slate               11         NaN                 2.01   \n",
      "12                   Steel               12         NaN                   43   \n",
      "13                   Glass               13         NaN                 1.05   \n",
      "14           Stramit board               14         NaN                  0.1   \n",
      "15                     NaN              NaN         NaN                  NaN   \n",
      "16                     NaN              NaN         NaN                  NaN   \n",
      "17                     NaN              NaN         NaN                  NaN   \n",
      "18                  single              NaN         NaN                  NaN   \n",
      "19                  double              NaN         NaN                  NaN   \n",
      "\n",
      "   Specific heat capacity Density   DensityC HTCconv  \\\n",
      "0                 J/kg/oC   kg/m3        NaN       ?   \n",
      "1                     710    2500  1775000.0     6.4   \n",
      "2                     840    2000  1680000.0     6.4   \n",
      "3                    1090    2300  2507000.0     6.4   \n",
      "4                     864    1820  1572480.0     6.4   \n",
      "5                    1000     360   360000.0     6.4   \n",
      "6                    1500     510   765000.0     6.4   \n",
      "7                    2400     740  1776000.0     6.4   \n",
      "8                     NaN    1200        0.0     6.4   \n",
      "9                    1400      30    42000.0     6.4   \n",
      "10                    129   11350  1464150.0     6.4   \n",
      "11                    760    3000  2280000.0     6.4   \n",
      "12                    490    7820  3831800.0     6.4   \n",
      "13                    700    2500  1750000.0     6.4   \n",
      "14                   1300     380   494000.0     6.4   \n",
      "15                    NaN     NaN        NaN     NaN   \n",
      "16                    NaN     NaN        NaN     NaN   \n",
      "17                    NaN     NaN        NaN     NaN   \n",
      "18                    NaN     NaN        NaN     NaN   \n",
      "19                    NaN     NaN        NaN     NaN   \n",
      "\n",
      "                                           Unnamed: 8  \n",
      "0                                                note  \n",
      "1                               sandstone / 2.3 - 2.8  \n",
      "2                                        dense / hard  \n",
      "3                                                 NaN  \n",
      "4   http://www.tara.tcd.ie/bitstream/handle/2262/7...  \n",
      "5   https://www.ecologicalbuildingsystems.com/prod...  \n",
      "6                                         red / scots  \n",
      "7                                       english brown  \n",
      "8   https://carpetlayerwhangarei.nz/carpet-advice.php  \n",
      "9                              1300-1500 / .015 - .03  \n",
      "10                                                NaN  \n",
      "11                                            2.6-3.3  \n",
      "12                                          1% carbon  \n",
      "13                             quartz glass / 2.4-2.8  \n",
      "14                                                NaN  \n",
      "15                                                NaN  \n",
      "16                                                NaN  \n",
      "17                                                NaN  \n",
      "18                                                NaN  \n",
      "19                                                NaN  \n"
     ]
    },
    {
     "name": "stderr",
     "output_type": "stream",
     "text": [
      "C:\\Users\\EH842\\anaconda3\\lib\\site-packages\\openpyxl\\worksheet\\_reader.py:312: UserWarning: Data Validation extension is not supported and will be removed\n",
      "  warn(msg)\n"
     ]
    }
   ],
   "source": [
    "import pandas as pd\n",
    "from functions import *\n",
    "data = pd.read_excel(r'UserInputSheet.xlsx', sheet_name='Input')\n",
    "materials_data= pd.read_excel(r'UserInputSheet.xlsx', sheet_name='Materials')\n",
    "print(materials_data)"
   ]
  },
  {
   "cell_type": "markdown",
   "id": "6a1c40fb-fd62-4730-8d2e-7e7ead95c133",
   "metadata": {},
   "source": [
    "UPPER ROOM"
   ]
  },
  {
   "cell_type": "code",
   "execution_count": 2,
   "id": "d32b2f95-5766-47ca-8305-28f5bb7848c2",
   "metadata": {},
   "outputs": [
    {
     "name": "stdout",
     "output_type": "stream",
     "text": [
      "                    Upper Section Unnamed: 1\n",
      "0           initial Temperature C         10\n",
      "1                 Max heat in (W)      38000\n",
      "2                    volume (m^3)        100\n",
      "3                        densityC       1206\n",
      "4  conductive heat to lower level         20\n",
      "5             airchanges per hour        0.5\n"
     ]
    }
   ],
   "source": [
    "#T_room,Qin,volume,densityC,U,airchanges_per_hour):\n",
    "upper_data=data.iloc[:13,:6]\n",
    "#upper room\n",
    "print(upper_data.iloc[:6,:2])\n",
    "upper_data_parameters_room=upper_data.iloc[:6,1:2].to_numpy()\n",
    "upper=room_parameters(*upper_data_parameters_room)"
   ]
  },
  {
   "cell_type": "code",
   "execution_count": 19,
   "id": "63eefeea-c5f5-4347-8937-1a95a210e3f4",
   "metadata": {},
   "outputs": [
    {
     "name": "stdout",
     "output_type": "stream",
     "text": [
      "                       Upper Section Unnamed: 1\n",
      "7                               ROOF        NaN\n",
      "8                         area (m^3)        500\n",
      "9             internal material type      Slate\n",
      "10  internal material thickness (cm)         15\n",
      "11            external material type      Slate\n",
      "12  external material thickness (cm)          0\n",
      "                          Unnamed: 2          Unnamed: 3\n",
      "7                               WALL                 NaN\n",
      "8                         area (m^3)                 120\n",
      "9             internal material type  Insulating plaster\n",
      "10  internal material thickness (cm)                   5\n",
      "11            external material type               Brick\n",
      "12  external material thickness (cm)                 175\n"
     ]
    }
   ],
   "source": [
    "surface_data=data.iloc[7:13,:2]\n",
    "print(surface_data)\n",
    "internal_type=surface_data.iloc[2,1]\n",
    "material=materials_data.loc[materials_data['Material'] == internal_type]\n",
    "\n",
    "N_cells_internal=int(surface_data.iloc[3,1]/5)\n",
    "THcond_internal=np.full((1, N_cells_internal), material.loc[:,'Thermal conductivity'].to_numpy())\n",
    "densityC_internal=np.full((1, N_cells_internal), material.loc[:,'DensityC'].to_numpy())\n",
    "\n",
    "N_cells_external=int(surface_data.iloc[5,1]/5)\n",
    "THcond_external=np.full((1, N_cells_external), material.loc[:,'Thermal conductivity'].to_numpy())\n",
    "densityC_external=np.full((1, N_cells_external), material.loc[:,'DensityC'].to_numpy())\n",
    "\n",
    "roof_upper=output_surface_parameters([THcond_internal,THcond_external],material.loc[:,'HTCconv'].to_numpy(),[densityC_internal,densityC_external],0.05,surface_data.iloc[1,1],N_cells_internal+N_cells_external,upper_data_parameters_room[0])\n",
    "\n",
    "surface_data=data.iloc[7:13,2:4]\n",
    "print(surface_data)\n",
    "internal_type=surface_data.iloc[2,1]\n",
    "material=materials_data.loc[materials_data['Material'] == internal_type]\n",
    "\n",
    "N_cells_internal=int(surface_data.iloc[3,1]/5)\n",
    "THcond_internal=np.full((1, N_cells_internal), material.loc[:,'Thermal conductivity'].to_numpy())\n",
    "densityC_internal=np.full((1, N_cells_internal), material.loc[:,'DensityC'].to_numpy())\n",
    "\n",
    "N_cells_external=int(surface_data.iloc[5,1]/5)\n",
    "THcond_external=np.full((1, N_cells_external), material.loc[:,'Thermal conductivity'].to_numpy())\n",
    "densityC_external=np.full((1, N_cells_external), material.loc[:,'DensityC'].to_numpy())\n",
    "\n",
    "wall_upper=output_surface_parameters([THcond_internal,THcond_external],material.loc[:,'HTCconv'].to_numpy(),[densityC_internal,densityC_external],0.05,surface_data.iloc[1,1],N_cells_internal+N_cells_external,upper_data_parameters_room[0])\n",
    "\n"
   ]
  },
  {
   "cell_type": "code",
   "execution_count": null,
   "id": "5b637859-b69b-4b06-ad34-89a3dc8cb7a6",
   "metadata": {},
   "outputs": [],
   "source": [
    "\n",
    "\n"
   ]
  },
  {
   "cell_type": "code",
   "execution_count": null,
   "id": "eda3fbfd-f694-4d0d-9a0d-908de1ecb48a",
   "metadata": {},
   "outputs": [],
   "source": []
  }
 ],
 "metadata": {
  "kernelspec": {
   "display_name": "Python 3 (ipykernel)",
   "language": "python",
   "name": "python3"
  },
  "language_info": {
   "codemirror_mode": {
    "name": "ipython",
    "version": 3
   },
   "file_extension": ".py",
   "mimetype": "text/x-python",
   "name": "python",
   "nbconvert_exporter": "python",
   "pygments_lexer": "ipython3",
   "version": "3.9.12"
  }
 },
 "nbformat": 4,
 "nbformat_minor": 5
}
