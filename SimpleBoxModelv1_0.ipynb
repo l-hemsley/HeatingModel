{
 "cells": [
  {
   "cell_type": "code",
   "execution_count": null,
   "id": "cf4aa678-f460-4e81-aeca-340b501ed806",
   "metadata": {},
   "outputs": [],
   "source": [
    "#python specific stuff\n",
    "import numpy as np\n",
    "import matplotlib.pyplot as plt\n",
    "import time\n",
    "from functions import *\n"
   ]
  },
  {
   "cell_type": "code",
   "execution_count": null,
   "id": "0d4fa110-b3ce-41ee-97df-7291fb56fc89",
   "metadata": {},
   "outputs": [],
   "source": [
    "## INITIALIZATION for time\n",
    "total_time_h=3 #hours\n",
    "t_step=1 #s\n",
    "total_time_s=total_time_h*60*60\n",
    "N_t_steps=int(total_time_s/t_step)\n",
    "\n",
    "#output surfaces initialization\n",
    "#use function output_surface_parameters(U (possible vector of length N_cells),HTC,densityC,thickness,area,N_cells,initial_T):\n",
    "#each surface is a class with defined parameters\n",
    "initial_T=10\n",
    "floor=output_surface_parameters(1.3,6.4,1680000,0.175,500,100,initial_T)\n",
    "wall=output_surface_parameters(1.3,6.4,1680000,0.175,210,100,initial_T)\n",
    "ceil=output_surface_parameters(0.1,6.4,494000,0.05,500,100,initial_T)\n",
    "output_surface_array=[floor,wall,ceil]\n",
    "\n",
    "# room initalization\n",
    "T_room=10\n",
    "Qin_room=71847 # some constant value set by heaters\n",
    "volume_room=3000\n",
    "densityC_room =1206\n",
    "\n",
    "data_array_T_wall=np.zeros(int(N_t_steps))\n",
    "data_array_T_floor=np.zeros(int(N_t_steps))\n",
    "data_array_T_ceil=np.zeros(int(N_t_steps))\n",
    "data_array_T_room=np.zeros(int(N_t_steps))\n",
    "\n",
    "for t in range(N_t_steps):\n",
    "\n",
    "    data_array_T_room[t]=T_room\n",
    "    data_array_T_wall[t]=wall.T_array[0]\n",
    "    data_array_T_floor[t]=floor.T_array[0]\n",
    "    data_array_T_ceil[t]=ceil.T_array[0]\n",
    "\n",
    "    Qout_room_total=0\n",
    "    \n",
    "    for output_surface in output_surface_array:\n",
    "        #calculate Qout for room/surface boundary\n",
    "        Qout_room_to_surface=calculate_Qout_convective(output_surface.HTC,output_surface.area,T_room,output_surface.T_array[0])\n",
    "        Qout_room_total=Qout_room_total+Qout_room_to_surface  \n",
    "        #calculate Qout/Qin for interior of surface\n",
    "        Qout_xarray=calculate_Qout_conductive(output_surface.THcond,output_surface.area,output_surface.T_array[0:output_surface.N_cells-1],output_surface.T_array[1:output_surface.N_cells],output_surface.cell_length)\n",
    "        Qin_xarray=np.append(Qout_room_to_surface,Qout_xarray[0:output_surface.N_cells-2])\n",
    "        #update surface interior temperatures\n",
    "        output_surface.T_array=output_surface.T_array+np.append(calculate_Tchange(Qin_xarray[0:output_surface.N_cells-1],Qout_xarray,t_step,output_surface.densityC,output_surface.volume_cell),[0]) \n",
    "\n",
    "    #update Temp of room using Qins and Qouts\n",
    "    T_room=T_room+calculate_Tchange(Qin_room,Qout_room_total,t_step,densityC_room,volume_room)\n",
    "\n",
    "\n",
    "# MAKE PLOTS ##########################\n",
    "\n",
    "t_array=np.arange(0,N_t_steps*t_step,t_step)/(60*60)\n",
    "plt.plot(t_array,data_array_T_room,label='T room')\n",
    "plt.plot(t_array,data_array_T_wall,label='T wall')\n",
    "plt.plot(t_array,data_array_T_floor,label='T floor')\n",
    "plt.plot(t_array,data_array_T_ceil,label='T ceil')\n",
    "plt.legend()\n",
    "plt.grid('True')\n",
    "plt.xlabel('Time (hours)')\n",
    "plt.ylabel('Temperature (C)')\n"
   ]
  },
  {
   "cell_type": "code",
   "execution_count": null,
   "id": "a0ac64b4-9ee6-4072-b994-088240a7b35f",
   "metadata": {},
   "outputs": [],
   "source": [
    "\n"
   ]
  },
  {
   "cell_type": "code",
   "execution_count": null,
   "id": "f8f8fb98-1054-488b-a21e-86d8509d033a",
   "metadata": {},
   "outputs": [],
   "source": []
  }
 ],
 "metadata": {
  "kernelspec": {
   "display_name": "Python 3 (ipykernel)",
   "language": "python",
   "name": "python3"
  },
  "language_info": {
   "codemirror_mode": {
    "name": "ipython",
    "version": 3
   },
   "file_extension": ".py",
   "mimetype": "text/x-python",
   "name": "python",
   "nbconvert_exporter": "python",
   "pygments_lexer": "ipython3",
   "version": "3.9.12"
  }
 },
 "nbformat": 4,
 "nbformat_minor": 5
}
