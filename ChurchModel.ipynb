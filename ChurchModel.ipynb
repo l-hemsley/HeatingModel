{
 "cells": [
  {
   "cell_type": "code",
   "execution_count": 1,
   "id": "b95febcc-7b50-4d4b-9ba9-9a6778d56eb5",
   "metadata": {},
   "outputs": [],
   "source": [
    "#python specific stuff\n",
    "import numpy as np\n",
    "import matplotlib.pyplot as plt\n",
    "import time\n",
    "from tqdm import tqdm\n",
    "from functions import *\n",
    "from ReadInParameters import *\n",
    "\n",
    "##TODO Lizzy\n",
    "#variable time step? check convergence somehow? Runge kutta method\n",
    "#optimize run time\n",
    "#internal volumes\n",
    "#different types of windows\n",
    "#initial = external temp\n",
    "#internals - end cell no heat loss\n",
    "#underfloor heating\n",
    "#hot spot with fixed temp\n",
    "\n",
    "#FOR DAD\n",
    "# Check material values\n",
    "# how to do windows double glazing\n",
    "# make Qin model for different types of heating\n"
   ]
  },
  {
   "cell_type": "code",
   "execution_count": 2,
   "id": "aaf312ef-105e-44c8-8561-d0cb517bf9d4",
   "metadata": {},
   "outputs": [],
   "source": [
    "## INITIALIZATION for time, and distance step?\n",
    "total_time_h=3 #hours\n",
    "t_step=0.1 #s\n",
    "total_time_s=total_time_h*60*60\n",
    "N_t_steps=int(total_time_s/t_step)\n",
    "#cell_length=0.5 "
   ]
  },
  {
   "cell_type": "code",
   "execution_count": null,
   "id": "45264e19-449c-403a-aabb-679d718737a8",
   "metadata": {},
   "outputs": [
    {
     "name": "stderr",
     "output_type": "stream",
     "text": [
      "C:\\Users\\EH842\\anaconda3\\lib\\site-packages\\openpyxl\\worksheet\\_reader.py:312: UserWarning: Data Validation extension is not supported and will be removed\n",
      "  warn(msg)\n",
      "  5%|▌         | 5852/108000 [00:18<05:31, 308.52it/s]"
     ]
    }
   ],
   "source": [
    "# # UPPER ROOM INITIALIZATION #########################\n",
    "[lower,middle,upper,surface_array_lower,surface_array_middle,surface_array_upper,T_target,T_exterior]=ReadInParameters('UserInputSheet.xlsx')\n",
    "\n",
    "## DO CALCULATION ##################\n",
    "\n",
    "data_array_T_room_upper=np.zeros(int(N_t_steps))\n",
    "data_array_T_room_middle=np.zeros(int(N_t_steps))\n",
    "data_array_T_room_lower=np.zeros(int(N_t_steps))\n",
    "Qs=np.zeros(int(N_t_steps))\n",
    "data_array_surfaces=np.zeros([int(N_t_steps),13])\n",
    "Qin_cumul=[0]\n",
    "\n",
    "for t in tqdm(range(N_t_steps)):\n",
    "    \n",
    "    #input data into arrays for plotting\n",
    "    data_array_T_room_upper[t]=upper.T_room\n",
    "    data_array_T_room_middle[t]=middle.T_room\n",
    "    data_array_T_room_lower[t]=lower.T_room\n",
    "    data_array=[]\n",
    "    for surface in surface_array_upper+surface_array_middle+surface_array_lower:\n",
    "            data_array=np.append(data_array,surface.T_array[0])            \n",
    "    data_array_surfaces[t,:]=data_array\n",
    "\n",
    "    # #temp monitoring for heater switch on/off\n",
    "    Qin_total=0\n",
    "    if lower.T_room >= T_target:\n",
    "        upper.Qin=0\n",
    "        middle.Qin=0\n",
    "        lower.Qin=0\n",
    "        for surface in surface_array_upper+surface_array_middle+surface_array_lower:\n",
    "            surface.Qrad=0\n",
    "    else:\n",
    "        upper.Qin=upper.Qin_max\n",
    "        middle.Qin=middle.Qin_max\n",
    "        lower.Qin=lower.Qin_max\n",
    "        Qin_total=Qin_total+upper.Qin+middle.Qin+lower.Qin\n",
    "        for surface in surface_array_upper+surface_array_middle+surface_array_lower:\n",
    "            surface.Qrad=surface.Qrad_max\n",
    "            Qin_total=Qin_total+surface.Qrad\n",
    "    \n",
    "    ## LAYER UPPER\n",
    "    [Qout_room_total,surface_array_upper]=do_surfaces_in_room(surface_array_upper,upper.T_room,t_step,T_exterior)\n",
    "    Qout_upper_to_middle=calculate_Qout_convective(upper.U,upper.area,upper.T_room,middle.T_room)\n",
    "    Qout_room_total=Qout_room_total+Qout_upper_to_middle\n",
    "    Q_leak_upper=upper.airchanges_per_hour*upper.volume*t_step*upper.densityC*(upper.T_room-T_exterior)/3600\n",
    "    upper.T_room=upper.T_room+calculate_Tchange(upper.Qin-Q_leak_upper,Qout_room_total,t_step,upper.densityC,upper.volume)\n",
    "    \n",
    "    ## LAYER MIDDLE\n",
    "    [Qout_room_total,surface_array_middle]=do_surfaces_in_room(surface_array_middle,middle.T_room,t_step,T_exterior)\n",
    "    Qout_middle_to_lower=calculate_Qout_convective(middle.U,middle.area,middle.T_room,lower.T_room)\n",
    "    Qout_room_total=Qout_room_total+Qout_middle_to_lower\n",
    "    Q_leak_middle=middle.airchanges_per_hour*middle.volume*t_step*middle.densityC*(middle.T_room-T_exterior)/3600\n",
    "    middle.T_room=middle.T_room+calculate_Tchange(middle.Qin+Qout_upper_to_middle-Q_leak_middle,Qout_room_total,t_step,middle.densityC,middle.volume)\n",
    "    \n",
    "    ## LAYER LOWER\n",
    "    [Qout_room_total,surface_array_lower]=do_surfaces_in_room(surface_array_lower,lower.T_room,t_step,T_exterior)\n",
    "    Q_leak_lower=lower.airchanges_per_hour*lower.volume*t_step*lower.densityC*(lower.T_room-T_exterior)/3600\n",
    "    lower.T_room=lower.T_room+calculate_Tchange(lower.Qin+Qout_middle_to_lower-Q_leak_lower,Qout_room_total,t_step,lower.densityC,lower.volume)\n",
    "    \n",
    "    ## CUMUL Q\n",
    "    Qin_cumul=np.append(Qin_cumul,Qin_cumul[t]+Qin_total*t_step)  "
   ]
  },
  {
   "cell_type": "code",
   "execution_count": null,
   "id": "572f1371-1909-4690-a089-6f0e41336a59",
   "metadata": {},
   "outputs": [],
   "source": [
    "# MAKE PLOTS ##########################\n",
    "\n",
    "t_array=np.arange(0,N_t_steps*t_step,t_step)/(60*60)\n",
    "plt.plot(t_array,data_array_T_room_upper,label='T room_upper')\n",
    "plt.plot(t_array,data_array_T_room_middle,label='T room_middle')\n",
    "plt.plot(t_array,data_array_T_room_lower,label='T room_lower')\n",
    "plt.plot(t_array,np.full(N_t_steps,T_target),label='T target')\n",
    "plt.plot(t_array,np.full(N_t_steps,T_exterior),label='T exterior')\n",
    "plt.legend()\n",
    "plt.grid('True')\n",
    "plt.xlabel('Time (hours)')\n",
    "plt.ylabel('Temperature (C)')\n",
    "print(data_array_T_room_lower[-1])"
   ]
  },
  {
   "cell_type": "code",
   "execution_count": null,
   "id": "f8f8fb98-1054-488b-a21e-86d8509d033a",
   "metadata": {},
   "outputs": [],
   "source": [
    "lineObjects =plt.plot(t_array,data_array_surfaces[:,0:4])\n",
    "plt.legend(iter(lineObjects), ('Roof','Wall','Windows','Hot Spot'))\n",
    "plt.title('Upper')\n"
   ]
  },
  {
   "cell_type": "code",
   "execution_count": null,
   "id": "9babb97f-ccbb-45c3-b562-153524f8472e",
   "metadata": {},
   "outputs": [],
   "source": [
    "lineObjects =plt.plot(t_array,data_array_surfaces[:,4:8])\n",
    "plt.legend(iter(lineObjects), ('Roof','Wall','Windows','Hot Spot'))\n",
    "plt.title('Middle')"
   ]
  },
  {
   "cell_type": "code",
   "execution_count": null,
   "id": "e214b401-3e6f-49d0-acbe-74177e702274",
   "metadata": {},
   "outputs": [],
   "source": [
    "lineObjects =plt.plot(t_array,data_array_surfaces[:,8:13])\n",
    "plt.legend(iter(lineObjects), ('Roof','Wall','Floor','Windows','Hot Spot'))\n",
    "plt.title('Lower')"
   ]
  },
  {
   "cell_type": "code",
   "execution_count": null,
   "id": "c6d4e77e-1045-4ed0-9509-de6d80db382f",
   "metadata": {},
   "outputs": [],
   "source": [
    "plt.plot(Qin_cumul)\n",
    "plt.title('Cumulative Q')\n",
    "plt.grid('True')"
   ]
  },
  {
   "cell_type": "code",
   "execution_count": null,
   "id": "487dfb16-2dc0-4957-af98-356479ef6a06",
   "metadata": {},
   "outputs": [],
   "source": []
  }
 ],
 "metadata": {
  "kernelspec": {
   "display_name": "Python 3 (ipykernel)",
   "language": "python",
   "name": "python3"
  },
  "language_info": {
   "codemirror_mode": {
    "name": "ipython",
    "version": 3
   },
   "file_extension": ".py",
   "mimetype": "text/x-python",
   "name": "python",
   "nbconvert_exporter": "python",
   "pygments_lexer": "ipython3",
   "version": "3.9.12"
  }
 },
 "nbformat": 4,
 "nbformat_minor": 5
}
