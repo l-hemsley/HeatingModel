{
 "cells": [
  {
   "cell_type": "code",
   "execution_count": 1,
   "id": "cf4aa678-f460-4e81-aeca-340b501ed806",
   "metadata": {},
   "outputs": [
    {
     "ename": "IndentationError",
     "evalue": "unexpected indent (ReadInParameters.py, line 90)",
     "output_type": "error",
     "traceback": [
      "Traceback \u001b[1;36m(most recent call last)\u001b[0m:\n",
      "  File \u001b[0;32m~\\anaconda3\\lib\\site-packages\\IPython\\core\\interactiveshell.py:3369\u001b[0m in \u001b[0;35mrun_code\u001b[0m\n    exec(code_obj, self.user_global_ns, self.user_ns)\n",
      "\u001b[1;36m  Input \u001b[1;32mIn [1]\u001b[1;36m in \u001b[1;35m<cell line: 6>\u001b[1;36m\u001b[0m\n\u001b[1;33m    from ReadInParameters import *\u001b[0m\n",
      "\u001b[1;36m  File \u001b[1;32mG:\\My Drive\\Dads Project\\ReadInParameters.py:90\u001b[1;36m\u001b[0m\n\u001b[1;33m    windows_middle=output_surface_parameters(THcond,material.loc[:,'HTCconv'].to_numpy(),densityC,thickness,surface_data.iloc[1,1],N_cells_internal,middle_data_parameters_room[0])\u001b[0m\n\u001b[1;37m    ^\u001b[0m\n\u001b[1;31mIndentationError\u001b[0m\u001b[1;31m:\u001b[0m unexpected indent\n"
     ]
    }
   ],
   "source": [
    "#python specific stuff\n",
    "import numpy as np\n",
    "import matplotlib.pyplot as plt\n",
    "import time\n",
    "from functions import *\n",
    "from ReadInParameters import *\n"
   ]
  },
  {
   "cell_type": "code",
   "execution_count": null,
   "id": "aaf312ef-105e-44c8-8561-d0cb517bf9d4",
   "metadata": {},
   "outputs": [],
   "source": [
    "## INITIALIZATION for time\n",
    "total_time_h=3 #hours\n",
    "t_step=1 #s\n",
    "total_time_s=total_time_h*60*60\n",
    "N_t_steps=int(total_time_s/t_step)"
   ]
  },
  {
   "cell_type": "code",
   "execution_count": null,
   "id": "f98fe24b-0c1f-46b7-9ce6-da24cfd7cf03",
   "metadata": {},
   "outputs": [],
   "source": [
    "# # UPPER ROOM INITIALIZATION #########################\n",
    "[lower,middle,upper,output_surface_array_lower,output_surface_array_middle,output_surface_array_upper,T_target,T_exterior,target_level]=ReadInParameters('UserInputSheet.xlsx')\n",
    "\n",
    "\n",
    "## DO CALCULATION ##################\n",
    "\n",
    "data_array_T_room_upper=np.zeros(int(N_t_steps))\n",
    "data_array_T_room_middle=np.zeros(int(N_t_steps))\n",
    "data_array_T_room_lower=np.zeros(int(N_t_steps))\n",
    "\n",
    "Qin_cumul=[0]\n",
    "\n",
    "for t in range(N_t_steps):\n",
    "\n",
    "    data_array_T_room_upper[t]=upper.T_room\n",
    "    data_array_T_room_middle[t]=middle.T_room\n",
    "    data_array_T_room_lower[t]=lower.T_room\n",
    "    \n",
    "    ## LAYER 1\n",
    "    \n",
    "    #do surfaces in upper room\n",
    "    [Qout_room_total,output_surface_array_upper]=do_surfaces_in_room(output_surface_array_upper,upper.T_room,t_step,T_exterior)\n",
    "    #now conductive to lower room\n",
    "    Qout_upper_to_middle=calculate_Qout_convective(upper.U,upper.area,upper.T_room,middle.T_room)\n",
    "    Qout_room_total=Qout_room_total+Qout_upper_to_middle\n",
    "    \n",
    "    #temp monitoring - for now NO CHANGE\n",
    "\n",
    "    if lower.T_room >= T_target:\n",
    "        upper.Qin=1*upper.Qin_max\n",
    "        middle.Qin=1*middle.Qin_max\n",
    "        lower.Qin=1*lower.Qin_max\n",
    "    else:\n",
    "        upper.Qin=upper.Qin_max\n",
    "        middle.Qin=middle.Qin_max\n",
    "        lower.Qin=lower.Qin_max\n",
    "    \n",
    "    #update Temp of room using Qins and Qouts\n",
    "    Q_leak_upper=upper.airchanges_per_hour*upper.volume*t_step*upper.densityC*(upper.T_room-T_exterior)/3600\n",
    "    upper.T_room=upper.T_room+calculate_Tchange(upper.Qin-Q_leak_upper,Qout_room_total,t_step,upper.densityC,upper.volume)\n",
    "    \n",
    "    ## LAYER 2\n",
    "    ##bug here in line 43\n",
    "    [Qout_room_total,output_surface_array_middle]=do_surfaces_in_room(output_surface_array_middle,middle.T_room,t_step,T_exterior)\n",
    "    Qout_middle_to_lower=calculate_Qout_convective(middle.U,middle.area,middle.T_room,lower.T_room)\n",
    "    Qout_room_total=Qout_room_total+Qout_middle_to_lower\n",
    "    \n",
    "    #Calculate cumulative heat input:\n",
    "    Q_leak_middle=middle.airchanges_per_hour*middle.volume*t_step*middle.densityC*(middle.T_room-T_exterior)/3600\n",
    "    middle.T_room=middle.T_room+calculate_Tchange(middle.Qin+Qout_upper_to_middle-Q_leak_middle,Qout_room_total,t_step,middle.densityC,middle.volume)\n",
    "    \n",
    "    ## LAYER 3\n",
    "    \n",
    "    [Qout_room_total,output_surface_array_lower]=do_surfaces_in_room(output_surface_array_lower,lower.T_room,t_step,T_exterior)\n",
    "\n",
    "    #Calculate cumulative heat input:\n",
    "    Q_leak_lower=lower.airchanges_per_hour*lower.volume*t_step*lower.densityC*(lower.T_room-T_exterior)/3600\n",
    "    lower.T_room=lower.T_room+calculate_Tchange(lower.Qin+Qout_middle_to_lower-Q_leak_lower,Qout_room_total,t_step,lower.densityC,lower.volume)\n",
    "    ## CUMUL Q\n",
    "    \n",
    "    Qin_cumul=np.append(Qin_cumul,Qin_cumul[t]+lower.Qin*t_step +middle.Qin*t_step+upper.Qin*t_step)  "
   ]
  },
  {
   "cell_type": "code",
   "execution_count": null,
   "id": "572f1371-1909-4690-a089-6f0e41336a59",
   "metadata": {},
   "outputs": [],
   "source": [
    "# MAKE PLOTS ##########################\n",
    "fig, axs = plt.subplots(2)\n",
    "t_array=np.arange(0,N_t_steps*t_step,t_step)/(60*60)\n",
    "axs[0].plot(t_array,data_array_T_room_upper,label='T room_upper')\n",
    "axs[0].plot(t_array,data_array_T_room_middle,label='T room_middle')\n",
    "axs[0].plot(t_array,data_array_T_room_lower,label='T room_lower')\n",
    "axs[0].legend()\n",
    "axs[1].legend()\n",
    "axs[0].grid('True')\n",
    "plt.xlabel('Time (hours)')\n",
    "plt.ylabel('Temperature (C)')\n",
    "print(data_array_T_room_middle[-1])"
   ]
  },
  {
   "cell_type": "code",
   "execution_count": null,
   "id": "f8f8fb98-1054-488b-a21e-86d8509d033a",
   "metadata": {},
   "outputs": [],
   "source": [
    "plt.plot( Qin_cumul)"
   ]
  }
 ],
 "metadata": {
  "kernelspec": {
   "display_name": "Python 3 (ipykernel)",
   "language": "python",
   "name": "python3"
  },
  "language_info": {
   "codemirror_mode": {
    "name": "ipython",
    "version": 3
   },
   "file_extension": ".py",
   "mimetype": "text/x-python",
   "name": "python",
   "nbconvert_exporter": "python",
   "pygments_lexer": "ipython3",
   "version": "3.9.12"
  }
 },
 "nbformat": 4,
 "nbformat_minor": 5
}
