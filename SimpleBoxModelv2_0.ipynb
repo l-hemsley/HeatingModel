{
 "cells": [
  {
   "cell_type": "code",
   "execution_count": 1,
   "id": "cf4aa678-f460-4e81-aeca-340b501ed806",
   "metadata": {},
   "outputs": [],
   "source": [
    "#python specific stuff\n",
    "import numpy as np\n",
    "import matplotlib.pyplot as plt\n",
    "import time\n",
    "from functions import *\n"
   ]
  },
  {
   "cell_type": "code",
   "execution_count": 2,
   "id": "aaf312ef-105e-44c8-8561-d0cb517bf9d4",
   "metadata": {},
   "outputs": [],
   "source": [
    "## INITIALIZATION for time\n",
    "total_time_h=24 #hours\n",
    "t_step=60 #s\n",
    "total_time_s=total_time_h*60*60\n",
    "N_t_steps=int(total_time_s/t_step)"
   ]
  },
  {
   "cell_type": "code",
   "execution_count": 3,
   "id": "10cb0a23-ca3c-4752-acdf-3779c85cfd71",
   "metadata": {},
   "outputs": [
    {
     "data": {
      "text/plain": [
       "Text(0, 0.5, 'Temperature (C)')"
      ]
     },
     "execution_count": 3,
     "metadata": {},
     "output_type": "execute_result"
    },
    {
     "data": {
      "image/png": "[encoded data removed]",
      "text/plain": [
       "<Figure size 432x288 with 1 Axes>"
      ]
     },
     "metadata": {
      "needs_background": "light"
     },
     "output_type": "display_data"
    }
   ],
   "source": [
    "# # UPPER ROOM INITIALIZATION #########################\n",
    "#this room is where the heat is added and is the starting point of calculation (for the moment we are assuming it is the upper part\n",
    "#for the surfaces, the outside edge is fixed at it's initial_T\n",
    "#OUTPUT SURFACE INITIALIZATION\n",
    "#use function output_surface_parameters() to define parameters\n",
    "#output_surface_parameters(U (possible vector of length N_cells),HTC,densityC,thickness,area,N_cells,initial_T)\n",
    "#windows=output_surface_parameters(1,10,494000,1,10,50,10)\n",
    "ceil=output_surface_parameters(10,10,494000,1,10,50,10)\n",
    "#you can use vector for U\n",
    "N=50;\n",
    "example_U_vector=np.full(N-1,10.0)\n",
    "example_U_vector[1:10]=5;\n",
    "wall_upper=output_surface_parameters(example_U_vector,10,494000,1,10,N,10)\n",
    "output_surface_array_upper=[ceil,wall_upper]\n",
    "\n",
    "#ROOM PARAMETERS\n",
    "T_room_upper=10 \n",
    "Qin=2000 # some constant value set by heaters\n",
    "volume_room_upper=ceil.area*np.sqrt(wall_upper.area/4) #for box shape\n",
    "densityC_room_upper =494000\n",
    "U_upper=10 # this is for conductive heat to the lower level??\n",
    "\n",
    "# LOWER ROOM INITIALIZATION #########################\n",
    "\n",
    "#OUTPUT SURFACE INITIALIZATION\n",
    "floor=output_surface_parameters(10,10,494000,1,10,50,10)\n",
    "wall_lower=output_surface_parameters(1,10,494000,1,10,50,10)\n",
    "output_surface_array_lower=[wall_lower,floor]\n",
    "\n",
    "#ROOM PARAMETERS\n",
    "T_room_lower=10\n",
    "volume_room_lower=floor.area*np.sqrt(wall_lower.area/4) #for box shape\n",
    "densityC_room_lower =494000\n",
    "\n",
    "## DO CALCULATION ##################\n",
    "\n",
    "data_array_T_room_upper=np.zeros(int(N_t_steps))\n",
    "data_array_T_room_lower=np.zeros(int(N_t_steps))\n",
    "\n",
    "for t in range(N_t_steps):\n",
    "\n",
    "    data_array_T_room_upper[t]=T_room_upper\n",
    "    data_array_T_room_lower[t]=T_room_lower\n",
    "    \n",
    "    #treat upper room first (this is where the heat enters)\n",
    "    \n",
    "    Qout_room_total_upper=0\n",
    "    #first deal with surfaces \n",
    "    for output_surface in output_surface_array_upper:\n",
    "        #calculate Qout for room/surface boundary\n",
    "        Qout_room_to_surface=calculate_Qout_convective(output_surface.HTC,output_surface.area,T_room_upper,output_surface.T_array[0])\n",
    "        Qout_room_total_upper=Qout_room_total_upper+Qout_room_to_surface  \n",
    "        #calculate Qout/Qin for interior of surface\n",
    "        Qout_xarray=calculate_Qout_conductive(output_surface.U,output_surface.area,output_surface.T_array[0:output_surface.N_cells-1],output_surface.T_array[1:output_surface.N_cells],output_surface.cell_length)\n",
    "        Qin_xarray=np.append(Qout_room_to_surface,Qout_xarray[0:output_surface.N_cells-2])\n",
    "        #update surface interior temperatures\n",
    "        output_surface.T_array=output_surface.T_array+np.append(calculate_Tchange(Qin_xarray[0:output_surface.N_cells-1],Qout_xarray,t_step,output_surface.densityC,output_surface.volume_cell),[0]) \n",
    "    \n",
    "    #now conductive to lower room\n",
    "    Qout_upper_to_lower=calculate_Qout_conductive(U_upper,ceil.area,T_room_upper,T_room_lower,np.sqrt(wall_upper.area)) #not sure on this equation?\n",
    "    Qout_room_total_upper=Qout_room_total_upper+Qout_upper_to_lower\n",
    "    \n",
    "    #update Temp of room using Qins and Qouts\n",
    "    T_room_upper=T_room_upper+calculate_Tchange(Qin,Qout_room_total_upper,t_step,densityC_room_upper,volume_room_upper)\n",
    "    \n",
    "    #now do surfaces in lower room\n",
    "    Qout_room_total_lower=0\n",
    "    for output_surface in output_surface_array_lower:\n",
    "        #calculate Qout for room/surface boundary\n",
    "        Qout_room_to_surface=calculate_Qout_convective(output_surface.HTC,output_surface.area,T_room_lower,output_surface.T_array[0])\n",
    "        Qout_room_total_lower=Qout_room_total_lower+Qout_room_to_surface  \n",
    "        #calculate Qout/Qin for interior of surface\n",
    "        Qout_xarray=calculate_Qout_conductive(output_surface.U,output_surface.area,output_surface.T_array[0:output_surface.N_cells-1],output_surface.T_array[1:output_surface.N_cells],output_surface.cell_length)\n",
    "        Qin_xarray=np.append(Qout_room_to_surface,Qout_xarray[0:output_surface.N_cells-2])\n",
    "        #update surface interior temperatures\n",
    "        output_surface.T_array=output_surface.T_array+np.append(calculate_Tchange(Qin_xarray[0:output_surface.N_cells-1],Qout_xarray,t_step,output_surface.densityC,output_surface.volume_cell),[0]) \n",
    "    \n",
    "    #update Temp of room using Qins and Qouts\n",
    "    T_room_lower=T_room_lower+calculate_Tchange(Qout_room_total_upper,Qout_room_total_lower,t_step,densityC_room_lower,volume_room_lower)\n",
    "\n",
    "\n",
    "# MAKE PLOTS ##########################\n",
    "\n",
    "t_array=np.arange(0,N_t_steps*t_step,t_step)/(60*60)\n",
    "plt.plot(t_array,data_array_T_room_upper,label='T room_upper')\n",
    "plt.plot(t_array,data_array_T_room_lower,label='T room_lower')\n",
    "plt.legend()\n",
    "plt.grid('True')\n",
    "plt.xlabel('Time (hours)')\n",
    "plt.ylabel('Temperature (C)')\n",
    "\n"
   ]
  },
  {
   "cell_type": "code",
   "execution_count": null,
   "id": "f8f8fb98-1054-488b-a21e-86d8509d033a",
   "metadata": {},
   "outputs": [],
   "source": []
  }
 ],
 "metadata": {
  "kernelspec": {
   "display_name": "Python 3 (ipykernel)",
   "language": "python",
   "name": "python3"
  },
  "language_info": {
   "codemirror_mode": {
    "name": "ipython",
    "version": 3
   },
   "file_extension": ".py",
   "mimetype": "text/x-python",
   "name": "python",
   "nbconvert_exporter": "python",
   "pygments_lexer": "ipython3",
   "version": "3.9.13"
  }
 },
 "nbformat": 4,
 "nbformat_minor": 5
}
