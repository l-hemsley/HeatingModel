{
 "cells": [
  {
   "cell_type": "code",
   "execution_count": 1,
   "id": "cf4aa678-f460-4e81-aeca-340b501ed806",
   "metadata": {},
   "outputs": [],
   "source": [
    "#python specific stuff\n",
    "import numpy as np\n",
    "import matplotlib.pyplot as plt\n",
    "import time\n",
    "from functions import *\n"
   ]
  },
  {
   "cell_type": "code",
   "execution_count": 2,
   "id": "aaf312ef-105e-44c8-8561-d0cb517bf9d4",
   "metadata": {},
   "outputs": [],
   "source": [
    "## INITIALIZATION for time\n",
    "total_time_h=3 #hours\n",
    "t_step=1 #s\n",
    "total_time_s=total_time_h*60*60\n",
    "N_t_steps=int(total_time_s/t_step)"
   ]
  },
  {
   "cell_type": "code",
   "execution_count": 3,
   "id": "48187f7e-5699-4962-82ed-da465caad58c",
   "metadata": {},
   "outputs": [
    {
     "name": "stdout",
     "output_type": "stream",
     "text": [
      "1630.43\n"
     ]
    }
   ],
   "source": [
    "# # UPPER ROOM INITIALIZATION #########################\n",
    "\n",
    "#SI units only =m, s, kg, C\n",
    " \n",
    "#this room is where the heat is added and is the starting point of calculation (for the moment we are assuming it is the upper part\n",
    "#for the surfaces, the outside edge is fixed at it's initial_T\n",
    "#OUTPUT SURFACE INITIALIZATION\n",
    "#use function output_surface_parameters() to define parameters\n",
    "\n",
    "#output_surface_parameters;\n",
    "#(THcond,HTC,densityC,thickness,area,N_cells,initial_T) ->see functions.py for more details\n",
    "\n",
    "initial_T=10\n",
    "ceil=output_surface_parameters(0.1,6.4,494000,0.05,500,100,initial_T)\n",
    "\n",
    "wall_upper=output_surface_parameters(1.3,6.4,1680000,0.175,250,100,initial_T)\n",
    "output_surface_array_upper=[ceil,wall_upper]\n",
    "\n",
    "#ROOM PARAMETERS\n",
    "T_room_upper=initial_T \n",
    "Qin=71874 # some constant value set by heaters\n",
    "volume_room_upper=1630.43\n",
    "print(volume_room_upper)\n",
    "densityC_room_upper =1206\n",
    "U_upper=4 # this is for conductive heat to the lower level??\n",
    "\n",
    "# LOWER ROOM INITIALIZATION #########################\n",
    "\n",
    "#OUTPUT SURFACE INITIALIZATION\n",
    "floor=output_surface_parameters(1.3,6.4,1680000,0.175,500,100,initial_T)\n",
    "wall_lower=output_surface_parameters(1.3,6.4,1680000,0.175,210,100,initial_T)\n",
    "output_surface_array_lower=[wall_lower,floor]\n",
    "\n",
    "#ROOM PARAMETERS\n",
    "T_room_lower=initial_T\n",
    "volume_room_lower=1369.565\n",
    "densityC_room_lower =1206"
   ]
  },
  {
   "cell_type": "code",
   "execution_count": 4,
   "id": "a81daf65-6eea-49c7-a6c5-2e5964167a14",
   "metadata": {},
   "outputs": [],
   "source": [
    "## DO CALCULATION ##################\n",
    "\n",
    "data_array_T_room_upper=np.zeros(int(N_t_steps))\n",
    "data_array_T_room_lower=np.zeros(int(N_t_steps))\n",
    "data_array_T_wall_lower=np.zeros(int(N_t_steps))\n",
    "data_array_T_wall_upper=np.zeros(int(N_t_steps))\n",
    "data_array_T_ceil=np.zeros(int(N_t_steps))\n",
    "data_array_T_floor=np.zeros(int(N_t_steps))\n",
    "\n",
    "for t in range(N_t_steps):\n",
    "\n",
    "    data_array_T_room_upper[t]=T_room_upper\n",
    "    data_array_T_room_lower[t]=T_room_lower\n",
    "    data_array_T_wall_lower[t]=wall_lower.T_array[0]\n",
    "    data_array_T_wall_upper[t]=wall_upper.T_array[0]\n",
    "    data_array_T_ceil[t]=ceil.T_array[0]\n",
    "    data_array_T_floor[t]=floor.T_array[0]\n",
    "    \n",
    "    #treat upper room first (this is where the heat enters)\n",
    "    \n",
    "    Qout_room_total_upper=0\n",
    "    #first deal with surfaces \n",
    "    for output_surface in output_surface_array_upper:\n",
    "        #calculate Qout for room/surface boundary - CONVECTIVE\n",
    "        Qout_room_to_surface=calculate_Qout_convective(output_surface.HTC,output_surface.area,T_room_upper,output_surface.T_array[0])\n",
    "        Qout_room_total_upper=Qout_room_total_upper+Qout_room_to_surface  \n",
    "        #calculate Qout/Qin for interior of surface\n",
    "        Qout_xarray=calculate_Qout_conductive(output_surface.THcond,output_surface.area,output_surface.T_array[0:output_surface.N_cells-1],output_surface.T_array[1:output_surface.N_cells],output_surface.cell_length)\n",
    "        Qin_xarray=np.append(Qout_room_to_surface,Qout_xarray[0:output_surface.N_cells-2])\n",
    "        #update surface interior temperatures\n",
    "        output_surface.T_array=output_surface.T_array+np.append(calculate_Tchange(Qin_xarray[0:output_surface.N_cells-1],Qout_xarray,t_step,output_surface.densityC,output_surface.volume_cell),[0]) \n",
    "    \n",
    "    #now conductive to lower room\n",
    "    Qout_upper_to_lower=calculate_Qout_convective(U_upper,ceil.area,T_room_upper,T_room_lower)\n",
    "    Qout_room_total_upper=Qout_room_total_upper+Qout_upper_to_lower\n",
    "    \n",
    "    #update Temp of room using Qins and Qouts\n",
    "    T_room_upper=T_room_upper+calculate_Tchange(Qin,Qout_room_total_upper,t_step,densityC_room_upper,volume_room_upper)\n",
    "    \n",
    "    #now do surfaces in lower room\n",
    "    Qout_room_total_lower=0\n",
    "    for output_surface in output_surface_array_lower:\n",
    "        #calculate Qout for room/surface boundary\n",
    "        Qout_room_to_surface=calculate_Qout_convective(output_surface.HTC,output_surface.area,T_room_lower,output_surface.T_array[0])\n",
    "        Qout_room_total_lower=Qout_room_total_lower+Qout_room_to_surface  \n",
    "        #calculate Qout/Qin for interior of surface\n",
    "        Qout_xarray=calculate_Qout_conductive(output_surface.THcond,output_surface.area,output_surface.T_array[0:output_surface.N_cells-1],output_surface.T_array[1:output_surface.N_cells],output_surface.cell_length)\n",
    "        Qin_xarray=np.append(Qout_room_to_surface,Qout_xarray[0:output_surface.N_cells-2])\n",
    "        #update surface interior temperatures\n",
    "        output_surface.T_array=output_surface.T_array+np.append(calculate_Tchange(Qin_xarray[0:output_surface.N_cells-1],Qout_xarray,t_step,output_surface.densityC,output_surface.volume_cell),[0]) \n",
    "    \n",
    "    #update Temp of room using Qins and Qouts\n",
    "    T_room_lower=T_room_lower+calculate_Tchange(Qout_room_total_upper,Qout_room_total_lower,t_step,densityC_room_lower,volume_room_lower)"
   ]
  },
  {
   "cell_type": "code",
   "execution_count": 5,
   "id": "572f1371-1909-4690-a089-6f0e41336a59",
   "metadata": {},
   "outputs": [
    {
     "data": {
      "text/plain": [
       "Text(0, 0.5, 'Temperature (C)')"
      ]
     },
     "execution_count": 5,
     "metadata": {},
     "output_type": "execute_result"
    },
    {
     "data": {
      "image/png": "[encoded data removed]",
      "text/plain": [
       "<Figure size 432x288 with 2 Axes>"
      ]
     },
     "metadata": {
      "needs_background": "light"
     },
     "output_type": "display_data"
    }
   ],
   "source": [
    "# MAKE PLOTS ##########################\n",
    "fig, axs = plt.subplots(2)\n",
    "t_array=np.arange(0,N_t_steps*t_step,t_step)/(60*60)\n",
    "axs[0].plot(t_array,data_array_T_room_upper,label='T room_upper')\n",
    "axs[0].plot(t_array,data_array_T_room_lower,label='T room_lower')\n",
    "axs[0].legend()\n",
    "axs[0].grid('True')\n",
    "axs[1].plot(t_array,data_array_T_wall_lower,label='T wall_lower')\n",
    "axs[1].plot(t_array,data_array_T_wall_upper,label='T wall_upper')\n",
    "axs[1].plot(t_array,data_array_T_ceil,label='T ceil')\n",
    "axs[1].plot(t_array,data_array_T_floor,label='T floor')\n",
    "axs[1].legend()\n",
    "axs[1].grid('True')\n",
    "plt.xlabel('Time (hours)')\n",
    "plt.ylabel('Temperature (C)')"
   ]
  },
  {
   "cell_type": "code",
   "execution_count": 6,
   "id": "3b7a0345-418c-4f21-bdf5-8cdabeb122d2",
   "metadata": {},
   "outputs": [
    {
     "data": {
      "text/plain": [
       "[<matplotlib.lines.Line2D at 0x26d96a993a0>]"
      ]
     },
     "execution_count": 6,
     "metadata": {},
     "output_type": "execute_result"
    },
    {
     "data": {
      "image/png": "[encoded data removed]",
      "text/plain": [
       "<Figure size 432x288 with 1 Axes>"
      ]
     },
     "metadata": {
      "needs_background": "light"
     },
     "output_type": "display_data"
    }
   ],
   "source": [
    "plt.plot(wall_upper.T_array)"
   ]
  },
  {
   "cell_type": "code",
   "execution_count": 10,
   "id": "1109018c-41d6-4c06-baf6-ad3bd8dbe68e",
   "metadata": {},
   "outputs": [
    {
     "name": "stdout",
     "output_type": "stream",
     "text": [
      "0.12043585806780044\n",
      "0.0017499999999999998\n"
     ]
    },
    {
     "data": {
      "text/plain": [
       "[<matplotlib.lines.Line2D at 0x26d97bf85b0>]"
      ]
     },
     "execution_count": 10,
     "metadata": {},
     "output_type": "execute_result"
    },
    {
     "data": {
      "image/png": "[encoded data removed]",
      "text/plain": [
       "<Figure size 432x288 with 1 Axes>"
      ]
     },
     "metadata": {
      "needs_background": "light"
     },
     "output_type": "display_data"
    }
   ],
   "source": [
    "print(floor.T_array[0]-floor.T_array[1])\n",
    "print(floor.cell_length)\n",
    "\n",
    "plt.plot(Qin_xarray)"
   ]
  },
  {
   "cell_type": "code",
   "execution_count": null,
   "id": "f8f8fb98-1054-488b-a21e-86d8509d033a",
   "metadata": {},
   "outputs": [],
   "source": []
  }
 ],
 "metadata": {
  "kernelspec": {
   "display_name": "Python 3 (ipykernel)",
   "language": "python",
   "name": "python3"
  },
  "language_info": {
   "codemirror_mode": {
    "name": "ipython",
    "version": 3
   },
   "file_extension": ".py",
   "mimetype": "text/x-python",
   "name": "python",
   "nbconvert_exporter": "python",
   "pygments_lexer": "ipython3",
   "version": "3.9.12"
  }
 },
 "nbformat": 4,
 "nbformat_minor": 5
}
